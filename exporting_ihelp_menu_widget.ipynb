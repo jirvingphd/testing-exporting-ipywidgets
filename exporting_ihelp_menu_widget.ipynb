{
 "cells": [
  {
   "cell_type": "markdown",
   "metadata": {},
   "source": [
    "# OBJECTIVE\n",
    "\n",
    "> ### GOAL: **Save the contents of an `ihelp_menu2` widget in a form that can be used in either a Markdown or HTML document.**\n",
    "\n",
    "- **ihelp_menu2 (in the functions.py file) accepts a list of functions to display both/either the help printout and/or source code for the list of functions.** \n",
    "    - The list of functions is presented as a Dropdown Menu with checkboxes for selecting which pieces of info to display.<br><br>\n",
    "\n",
    "    - It uses a combination of `io.StringIO`, `sys.stdout`, and the `inspect.getsource` modules/functions to save a dictionary of the text results for each function, with the interactive menu controlling which function is *displayed*.\n",
    "    \n",
    "        - Note: this is different than how i originally did things with `ihelp_menu`, in which the documentationw as *generated* when the buttons were clicked. \n",
    "    \n",
    "\n",
    "## Reference\n",
    "\n",
    "- [FULL ipywidgets documentation](https://ipywidgets.readthedocs.io/en/latest/)\n",
    "    - [RELATED SECTION: \"Embedding Jupyer Notebook Widgets in Other Contexts\"](https://ipywidgets.readthedocs.io/en/latest/embedding.html)\n",
    "    \n",
    "    \n",
    "- **JAVASCRIPT SUBSECTIONS:**\n",
    "    1. ['Embeddable HTML Snippet'](https://ipywidgets.readthedocs.io/en/latest/embedding.html#embeddable-html-snippet)\n",
    "    2. [\"Using `jupyer-widgets-controls` in web contexts\"](https://ipywidgets.readthedocs.io/en/latest/embedding.html#using-jupyter-widgets-controls-in-web-contexts)\n",
    "    \n",
    "## What I've Tried:\n",
    "\n",
    "1. \"Using the Widgets> \"Embed Widgets\" from the J.Notebook menu bar. \n",
    "    - Issue: the contents were too big to copy and paste and kept crashing my browser.\n",
    "2. \"Using `ipywidgets.embed.embed_minimal_html`:\n",
    "    - Creates a standalone web page which has my interface, but does not actually display the outputs.\n"
   ]
  },
  {
   "cell_type": "code",
   "execution_count": 1,
   "metadata": {},
   "outputs": [
    {
     "name": "stdout",
     "output_type": "stream",
     "text": [
      "bs_ds  v0.9.10 loaded.  Read the docs: https://bs-ds.readthedocs.io/en/latest/index.html\n",
      "For convenient loading of standard modules use: from bs_ds.imports import *\n",
      "\n"
     ]
    },
    {
     "data": {
      "text/html": [
       "<style  type=\"text/css\" >\n",
       "</style><table id=\"T_ce193ea8_d99a_11e9_aca3_f48e38b6371f\" ><caption>Loaded Packages and Handles</caption><thead>    <tr>        <th class=\"col_heading level0 col0\" >Package</th>        <th class=\"col_heading level0 col1\" >Handle</th>        <th class=\"col_heading level0 col2\" >Description</th>    </tr></thead><tbody>\n",
       "                <tr>\n",
       "                                <td id=\"T_ce193ea8_d99a_11e9_aca3_f48e38b6371frow0_col0\" class=\"data row0 col0\" >bs_ds</td>\n",
       "                        <td id=\"T_ce193ea8_d99a_11e9_aca3_f48e38b6371frow0_col1\" class=\"data row0 col1\" >bs</td>\n",
       "                        <td id=\"T_ce193ea8_d99a_11e9_aca3_f48e38b6371frow0_col2\" class=\"data row0 col2\" >Custom data science bootcamp student package</td>\n",
       "            </tr>\n",
       "            <tr>\n",
       "                                <td id=\"T_ce193ea8_d99a_11e9_aca3_f48e38b6371frow1_col0\" class=\"data row1 col0\" >matplotlib</td>\n",
       "                        <td id=\"T_ce193ea8_d99a_11e9_aca3_f48e38b6371frow1_col1\" class=\"data row1 col1\" >mpl</td>\n",
       "                        <td id=\"T_ce193ea8_d99a_11e9_aca3_f48e38b6371frow1_col2\" class=\"data row1 col2\" >Matplotlib's base OOP module with formatting artists</td>\n",
       "            </tr>\n",
       "            <tr>\n",
       "                                <td id=\"T_ce193ea8_d99a_11e9_aca3_f48e38b6371frow2_col0\" class=\"data row2 col0\" >matplotlib.pyplot</td>\n",
       "                        <td id=\"T_ce193ea8_d99a_11e9_aca3_f48e38b6371frow2_col1\" class=\"data row2 col1\" >plt</td>\n",
       "                        <td id=\"T_ce193ea8_d99a_11e9_aca3_f48e38b6371frow2_col2\" class=\"data row2 col2\" >Matplotlib's matlab-like plotting module</td>\n",
       "            </tr>\n",
       "            <tr>\n",
       "                                <td id=\"T_ce193ea8_d99a_11e9_aca3_f48e38b6371frow3_col0\" class=\"data row3 col0\" >numpy</td>\n",
       "                        <td id=\"T_ce193ea8_d99a_11e9_aca3_f48e38b6371frow3_col1\" class=\"data row3 col1\" >np</td>\n",
       "                        <td id=\"T_ce193ea8_d99a_11e9_aca3_f48e38b6371frow3_col2\" class=\"data row3 col2\" >scientific computing with Python</td>\n",
       "            </tr>\n",
       "            <tr>\n",
       "                                <td id=\"T_ce193ea8_d99a_11e9_aca3_f48e38b6371frow4_col0\" class=\"data row4 col0\" >pandas</td>\n",
       "                        <td id=\"T_ce193ea8_d99a_11e9_aca3_f48e38b6371frow4_col1\" class=\"data row4 col1\" >pd</td>\n",
       "                        <td id=\"T_ce193ea8_d99a_11e9_aca3_f48e38b6371frow4_col2\" class=\"data row4 col2\" >High performance data structures and tools</td>\n",
       "            </tr>\n",
       "            <tr>\n",
       "                                <td id=\"T_ce193ea8_d99a_11e9_aca3_f48e38b6371frow5_col0\" class=\"data row5 col0\" >seaborn</td>\n",
       "                        <td id=\"T_ce193ea8_d99a_11e9_aca3_f48e38b6371frow5_col1\" class=\"data row5 col1\" >sns</td>\n",
       "                        <td id=\"T_ce193ea8_d99a_11e9_aca3_f48e38b6371frow5_col2\" class=\"data row5 col2\" >High-level data visualization library based on matplotlib</td>\n",
       "            </tr>\n",
       "    </tbody></table>"
      ],
      "text/plain": [
       "<pandas.io.formats.style.Styler at 0x1cd65b32400>"
      ]
     },
     "metadata": {},
     "output_type": "display_data"
    }
   ],
   "source": [
    "from bs_ds.imports import *\n",
    "import bs_ds as bs\n",
    "\n",
    "## Function with widget display to save\n",
    "from functions import ihelp_menu2"
   ]
  },
  {
   "cell_type": "code",
   "execution_count": 2,
   "metadata": {},
   "outputs": [
    {
     "data": {
      "application/vnd.jupyter.widget-view+json": {
       "model_id": "5d77d67648b54d538c9e6d06848a5e5f",
       "version_major": 2,
       "version_minor": 0
      },
      "text/plain": [
       "GridBox(box_style='warning', children=(VBox(children=(Label(value='iHelp Menu: View Help and/or Source Code'),…"
      ]
     },
     "metadata": {},
     "output_type": "display_data"
    },
    {
     "data": {
      "application/vnd.jupyter.widget-view+json": {
       "model_id": "71b88354b0f743b08cdb18f297818bf2",
       "version_major": 2,
       "version_minor": 0
      },
      "text/plain": [
       "Output()"
      ]
     },
     "metadata": {},
     "output_type": "display_data"
    }
   ],
   "source": [
    "function_list = [ihelp_menu2,bs.list2df, bs.save_model_weights_params]\n",
    "ihelp_menu2(function_list)"
   ]
  },
  {
   "cell_type": "markdown",
   "metadata": {},
   "source": [
    "# Attempts to Export Widget"
   ]
  },
  {
   "cell_type": "code",
   "execution_count": 3,
   "metadata": {},
   "outputs": [
    {
     "data": {
      "application/vnd.jupyter.widget-view+json": {
       "model_id": "cef934d139f247c8b8ee0a35100a0d0f",
       "version_major": 2,
       "version_minor": 0
      },
      "text/plain": [
       "GridBox(box_style='warning', children=(VBox(children=(Label(value='iHelp Menu: View Help and/or Source Code'),…"
      ]
     },
     "metadata": {},
     "output_type": "display_data"
    },
    {
     "data": {
      "application/vnd.jupyter.widget-view+json": {
       "model_id": "fc5508f433ab44deb33c866c5f95ef86",
       "version_major": 2,
       "version_minor": 0
      },
      "text/plain": [
       "Output()"
      ]
     },
     "metadata": {},
     "output_type": "display_data"
    }
   ],
   "source": [
    "function_list = [ihelp_menu2,bs.list2df, bs.save_model_weights_params]\n",
    "\n",
    "## Getting the actual interface returned as objects to export\n",
    "layout, output = ihelp_menu2(function_list,to_embed=True)\n",
    "\n",
    "display(layout)\n",
    "output"
   ]
  },
  {
   "cell_type": "code",
   "execution_count": 4,
   "metadata": {},
   "outputs": [],
   "source": [
    "from ipywidgets import embed\n",
    "\n",
    "embed.embed_minimal_html('ihelp_menu.html', views=[layout,output],title='ihelp menu test export')\n",
    "\n",
    "## creates a webpage, but does not display content"
   ]
  },
  {
   "cell_type": "markdown",
   "metadata": {},
   "source": [
    "### Have yet to fully try:\n"
   ]
  },
  {
   "cell_type": "markdown",
   "metadata": {},
   "source": [
    "- [From ipywidgets docs: Embedding HTML> Python Interface](https://ipywidgets.readthedocs.io/en/latest/embedding.html#python-interface)\n",
    "\n",
    "\n",
    "```python\n",
    "import json\n",
    "\n",
    "from ipywidgets import IntSlider\n",
    "from ipywidgets.embed import embed_data\n",
    "\n",
    "s1 = IntSlider(max=200, value=100)\n",
    "s2 = IntSlider(value=40)\n",
    "data = embed_data(views=[s1, s2])\n",
    "\n",
    "html_template = \"\"\"\n",
    "<html>\n",
    "  <head>\n",
    "\n",
    "    <title>Widget export</title>\n",
    "\n",
    "    <!-- Load RequireJS, used by the IPywidgets for dependency management -->\n",
    "    <script \n",
    "      src=\"https://cdnjs.cloudflare.com/ajax/libs/require.js/2.3.4/require.min.js\" \n",
    "      integrity=\"sha256-Ae2Vz/4ePdIu6ZyI/5ZGsYnb+m0JlOmKPjt6XZ9JJkA=\" \n",
    "      crossorigin=\"anonymous\">\n",
    "    </script>\n",
    "\n",
    "    <!-- Load IPywidgets bundle for embedding. -->\n",
    "    <script\n",
    "      data-jupyter-widgets-cdn=\"https://cdn.jsdelivr.net/npm/\"\n",
    "      src=\"https://unpkg.com/@jupyter-widgets/html-manager@*/dist/embed-amd.js\" \n",
    "      crossorigin=\"anonymous\">\n",
    "    </script>\n",
    "\n",
    "    <!-- The state of all the widget models on the page -->\n",
    "    <script type=\"application/vnd.jupyter.widget-state+json\">\n",
    "      {manager_state}\n",
    "    </script>\n",
    "  </head>\n",
    "\n",
    "  <body>\n",
    "\n",
    "    <h1>Widget export</h1>\n",
    "\n",
    "    <div id=\"first-slider-widget\">\n",
    "      <!-- This script tag will be replaced by the view's DOM tree -->\n",
    "      <script type=\"application/vnd.jupyter.widget-view+json\">\n",
    "        {widget_views[0]}\n",
    "      </script>\n",
    "    </div>\n",
    "\n",
    "    <hrule />\n",
    "\n",
    "    <div id=\"second-slider-widget\">\n",
    "      <!-- This script tag will be replaced by the view's DOM tree -->\n",
    "      <script type=\"application/vnd.jupyter.widget-view+json\">\n",
    "        {widget_views[1]}\n",
    "      </script>\n",
    "    </div>\n",
    "\n",
    "  </body>\n",
    "</html>\n",
    "\"\"\"\n",
    "\n",
    "manager_state = json.dumps(data['manager_state'])\n",
    "widget_views = [json.dumps(view) for view in data['view_specs']]\n",
    "rendered_template = html_template.format(manager_state=manager_state, widget_views=widget_views)\n",
    "with open('export.html', 'w') as fp:\n",
    "    fp.write(rendered_template)\n",
    "    \n",
    "```"
   ]
  },
  {
   "cell_type": "markdown",
   "metadata": {},
   "source": [
    "# For Easy Reference: ihelp_menu2 code"
   ]
  },
  {
   "cell_type": "code",
   "execution_count": 5,
   "metadata": {
    "scrolled": false
   },
   "outputs": [
    {
     "name": "stdout",
     "output_type": "stream",
     "text": [
      "------------------------------------------------------------------------------------\n",
      "------ HELP ------------------------------------------------------------------------\n",
      "\n",
      "Help on function ihelp_menu2 in module functions:\n",
      "\n",
      "ihelp_menu2(function_list, json_file='ihelp_output.txt', to_embed=False)\n",
      "    Accepts a list of string names for loaded modules/functions to save the `help` output and \n",
      "    inspect.getsource() outputs to dictionary for later reference and display\n",
      "\n",
      "------------------------------------------------------------------------------------\n",
      "------ SOURCE ----------------------------------------------------------------------\n"
     ]
    },
    {
     "data": {
      "text/markdown": [
       "```python\n",
       "def ihelp_menu2(function_list, json_file='ihelp_output.txt',to_embed=False):\n",
       "    \"\"\"Accepts a list of string names for loaded modules/functions to save the `help` output and \n",
       "    inspect.getsource() outputs to dictionary for later reference and display\"\"\"\n",
       "    ## One way using sys to write txt file\n",
       "    import pandas as pd\n",
       "    import sys\n",
       "    import inspect\n",
       "    from io import StringIO\n",
       "    notebook_output = sys.stdout\n",
       "    result = StringIO()\n",
       "    sys.stdout=result\n",
       "    \n",
       "    ## Turn single input into a list\n",
       "    if isinstance(function_list,list)==False:\n",
       "        function_list = [function_list]\n",
       "    \n",
       "    ## Make a dictionary of{function_name : function_object}\n",
       "    functions_dict = dict()\n",
       "    for fun in function_list:\n",
       "        \n",
       "        ## if input is a string, save string as key, and eval(function) as value\n",
       "        if isinstance(fun, str):\n",
       "            functions_dict[fun] = eval(fun)\n",
       "\n",
       "        ## if input is a function, get the name of function using inspect and make key, function as value\n",
       "        elif inspect.isfunction(fun):\n",
       "\n",
       "            members= inspect.getmembers(fun)\n",
       "            member_df = pd.DataFrame(members,columns=['param','values']).set_index('param')\n",
       "\n",
       "            fun_name = member_df.loc['__name__'].values[0]\n",
       "            functions_dict[fun_name] = fun\n",
       "            \n",
       "            \n",
       "    ## Create an output dict to store results for functions\n",
       "    output_dict = {}\n",
       "\n",
       "    for fun_name, real_func in functions_dict.items():\n",
       "        \n",
       "        output_dict[fun_name] = {}\n",
       "                \n",
       "        ## First save help\n",
       "        help(real_func)\n",
       "        output_dict[fun_name]['help'] = result.getvalue()\n",
       "        \n",
       "        ## Clear contents of io stream\n",
       "        result.truncate(0)\n",
       "        \n",
       "        try:\n",
       "            ## Next save source\n",
       "            print(inspect.getsource(real_func)) #eval(fun)))###f\"{eval(fun)}\"))\n",
       "        except:\n",
       "            print(\"Source code for object was not found\")\n",
       "        output_dict[fun_name]['source'] = result.getvalue()\n",
       "        \n",
       "        ## clear contents of io stream\n",
       "        result.truncate(0)\n",
       "        \n",
       "        \n",
       "        ## Get file location\n",
       "        try:\n",
       "            file_loc = inspect.getfile(real_func)\n",
       "            print(file_loc)\n",
       "        except:\n",
       "            print(\"File location not found\")\n",
       "            \n",
       "        output_dict[fun_name]['file_location'] =result.getvalue()\n",
       "        \n",
       "        \n",
       "        ## clear contents of io stream\n",
       "        result.truncate(0)        \n",
       "                \n",
       "        \n",
       "    ## Reset display back to notebook\n",
       "    sys.stdout = notebook_output    \n",
       "\n",
       "    \n",
       "    with open(json_file,'w') as f:\n",
       "        import json\n",
       "        json.dump(output_dict,f)\n",
       "\n",
       "    \n",
       "    ## CREATE INTERACTIVE MENU\n",
       "    from ipywidgets import interact, interactive, interactive_output\n",
       "    import ipywidgets as widgets\n",
       "    from IPython.display import display\n",
       "\n",
       "\n",
       "    ## Check boxes\n",
       "    check_help = widgets.Checkbox(description=\"Show 'help(func)'\",value=True)\n",
       "    check_source = widgets.Checkbox(description=\"Show source code\",value=True)\n",
       "    check_fileloc=widgets.Checkbox(description=\"Show source filepath\",value=False)\n",
       "    check_boxes = widgets.HBox(children=[check_help,check_source,check_fileloc])\n",
       "\n",
       "    ## dropdown menu (dropdown, label, button)\n",
       "    dropdown = widgets.Dropdown(options=list(output_dict.keys()))\n",
       "    label = widgets.Label('Function Menu')\n",
       "    button = widgets.ToggleButton(description='Show/hide',value=False)\n",
       "    \n",
       "    ## Putting it all together\n",
       "    title = widgets.Label('iHelp Menu: View Help and/or Source Code')\n",
       "    menu = widgets.HBox(children=[label,dropdown,button])\n",
       "    titled_menu = widgets.VBox(children=[title,menu])\n",
       "    full_layout = widgets.GridBox(children=[titled_menu,check_boxes],box_style='warning')\n",
       "    \n",
       "    \n",
       "    \n",
       "    ## Define output manager\n",
       "    # show_output = widgets.Output()\n",
       "\n",
       "    def dropdown_event(change): \n",
       "        new_key = change.new\n",
       "        output_display = output_dict[new_key]\n",
       "    dropdown.observe(dropdown_event,names='values')\n",
       "\n",
       "    \n",
       "    def show_ihelp(display_help=button.value,function=dropdown.value,\n",
       "                   show_help=check_help.value,show_code=check_source.value, show_file=check_fileloc.value):#,\n",
       "                   #ouput_dict=output_dict):\n",
       "\n",
       "        from IPython.display import Markdown\n",
       "#         import functions_combined_BEST as ji\n",
       "        from IPython.display import display        \n",
       "        page_header = '---'*28\n",
       "        import json\n",
       "        with open(json_file,'r') as f:\n",
       "            output_dict = json.load(f)\n",
       "        \n",
       "        \n",
       "        func_dict = output_dict[function]\n",
       "\n",
       "        if display_help:\n",
       "            if show_help:\n",
       "#                 display(print(func_dict['help']))\n",
       "                print(page_header)\n",
       "                banner = ''.join([\"---\"*2,' HELP ',\"---\"*24,'\\n'])\n",
       "                print(banner)\n",
       "                print(func_dict['help'])\n",
       "\n",
       "            if show_code:\n",
       "                print(page_header)\n",
       "\n",
       "                banner = ''.join([\"---\"*2,' SOURCE -',\"---\"*23])\n",
       "                print(banner)\n",
       "                source_code = \"```python\\n\"\n",
       "                source_code += func_dict['source']\n",
       "                source_code += \"```\"\n",
       "                display(Markdown(source_code))\n",
       "            \n",
       "            \n",
       "            if show_file:\n",
       "                print(page_header)\n",
       "                banner = ''.join([\"---\"*2,' FILE LOCATION ',\"---\"*21])\n",
       "                print(banner)\n",
       "                \n",
       "                file_loc = func_dict['file_location']\n",
       "                print(file_loc)\n",
       "                \n",
       "            if show_help==False & show_code==False & show_file==False:\n",
       "                display('Check at least one \"Show\" checkbox for output.')\n",
       "                \n",
       "        else:\n",
       "            display('Press \"Show/hide\" for display')\n",
       "            \n",
       "    ## Fully integrated output\n",
       "    output = widgets.interactive_output(show_ihelp,{'display_help':button,\n",
       "                                                   'function':dropdown,\n",
       "                                                   'show_help':check_help,\n",
       "                                                   'show_code':check_source,\n",
       "                                                   'show_file':check_fileloc})\n",
       "\n",
       "    if to_embed:\n",
       "        return full_layout, output\n",
       "    else:\n",
       "        display(full_layout, output)\n",
       "\n",
       "```"
      ],
      "text/plain": [
       "<IPython.core.display.Markdown object>"
      ]
     },
     "metadata": {},
     "output_type": "display_data"
    }
   ],
   "source": [
    "bs.ihelp(ihelp_menu2)"
   ]
  },
  {
   "cell_type": "code",
   "execution_count": null,
   "metadata": {},
   "outputs": [],
   "source": []
  }
 ],
 "metadata": {
  "kernelspec": {
   "display_name": "learn-env-ext",
   "language": "python",
   "name": "learn-env-ext"
  },
  "language_info": {
   "codemirror_mode": {
    "name": "ipython",
    "version": 3
   },
   "file_extension": ".py",
   "mimetype": "text/x-python",
   "name": "python",
   "nbconvert_exporter": "python",
   "pygments_lexer": "ipython3",
   "version": "3.6.8"
  },
  "toc": {
   "base_numbering": 1,
   "nav_menu": {},
   "number_sections": false,
   "sideBar": true,
   "skip_h1_title": false,
   "title_cell": "Table of Contents",
   "title_sidebar": "Contents",
   "toc_cell": false,
   "toc_position": {},
   "toc_section_display": true,
   "toc_window_display": false
  },
  "widgets": {
   "application/vnd.jupyter.widget-state+json": {
    "state": {
     "02c38793b6ec4425abac66c73afc536a": {
      "model_module": "@jupyter-widgets/controls",
      "model_module_version": "1.5.0",
      "model_name": "DescriptionStyleModel",
      "state": {
       "description_width": ""
      }
     },
     "0303647d6f8d476ea9ae0665518927a7": {
      "model_module": "@jupyter-widgets/controls",
      "model_module_version": "1.5.0",
      "model_name": "HBoxModel",
      "state": {
       "children": [
        "IPY_MODEL_b029dd41a21a420bab17dcc39bdc6170",
        "IPY_MODEL_2806f65b94a84faab127186b216ec43a",
        "IPY_MODEL_ce0dc5a856ba4a9c861081e138e24aad"
       ],
       "layout": "IPY_MODEL_bc5697808543454fb5eeb75b66f3a4f7"
      }
     },
     "06a8f2689bf54883b978417223eb0d18": {
      "model_module": "@jupyter-widgets/controls",
      "model_module_version": "1.5.0",
      "model_name": "HBoxModel",
      "state": {
       "children": [
        "IPY_MODEL_1c46535c919d40dd8b844ea68492bf11",
        "IPY_MODEL_2dd550bbedb54fd1b4057847adfe98fd",
        "IPY_MODEL_51906ecac200404ba6d0e052e48ca3dd"
       ],
       "layout": "IPY_MODEL_a6de20b8d4d04b3e8dfb68f7d52e5778"
      }
     },
     "09d92e0fcc034d778cc5a601fbfb8e64": {
      "model_module": "@jupyter-widgets/base",
      "model_module_version": "1.2.0",
      "model_name": "LayoutModel",
      "state": {}
     },
     "0b893b1c7bc14b468459e06684932643": {
      "model_module": "@jupyter-widgets/base",
      "model_module_version": "1.2.0",
      "model_name": "LayoutModel",
      "state": {}
     },
     "0c18cc70053d40d689cec6a0530888e0": {
      "model_module": "@jupyter-widgets/base",
      "model_module_version": "1.2.0",
      "model_name": "LayoutModel",
      "state": {}
     },
     "0d5001d281bb4fe9b42706a806154562": {
      "model_module": "@jupyter-widgets/base",
      "model_module_version": "1.2.0",
      "model_name": "LayoutModel",
      "state": {}
     },
     "0da26a41bfd543c7a1047cfff72bf602": {
      "model_module": "@jupyter-widgets/controls",
      "model_module_version": "1.5.0",
      "model_name": "LabelModel",
      "state": {
       "layout": "IPY_MODEL_68b203754e544bacb1659ec00fe4f717",
       "style": "IPY_MODEL_a6073f3da38448c7ada86fdb8a3e0ef3",
       "value": "iHelp Menu: View Help and/or Source Code"
      }
     },
     "0e229a6e88cc4a17b27c64fb3fe7976c": {
      "model_module": "@jupyter-widgets/controls",
      "model_module_version": "1.5.0",
      "model_name": "CheckboxModel",
      "state": {
       "description": "Show source code",
       "disabled": false,
       "layout": "IPY_MODEL_733190f76adb4e7880fd51b367496a58",
       "style": "IPY_MODEL_85492e1949a147918c834560843371be",
       "value": true
      }
     },
     "115d370f40b54f8d8bfb67fb64534e65": {
      "model_module": "@jupyter-widgets/output",
      "model_module_version": "1.0.0",
      "model_name": "OutputModel",
      "state": {
       "layout": "IPY_MODEL_34db611a53e1421c9e82eed8e59acaa9",
       "outputs": [
        {
         "data": {
          "text/plain": "'Press \"Show/hide\" for display'"
         },
         "metadata": {},
         "output_type": "display_data"
        }
       ]
      }
     },
     "11ef816826844805b6136c9290e1c7ca": {
      "model_module": "@jupyter-widgets/base",
      "model_module_version": "1.2.0",
      "model_name": "LayoutModel",
      "state": {}
     },
     "14222bdba3ae4548b17e18bee9c11a7f": {
      "model_module": "@jupyter-widgets/base",
      "model_module_version": "1.2.0",
      "model_name": "LayoutModel",
      "state": {}
     },
     "1455672c9e0d4b5baf0b6dd454bd8140": {
      "model_module": "@jupyter-widgets/controls",
      "model_module_version": "1.5.0",
      "model_name": "DescriptionStyleModel",
      "state": {
       "description_width": ""
      }
     },
     "188f4485687d4030831349226a07a766": {
      "model_module": "@jupyter-widgets/base",
      "model_module_version": "1.2.0",
      "model_name": "LayoutModel",
      "state": {}
     },
     "1c2b58cec0b54736a14c6370579bc0e9": {
      "model_module": "@jupyter-widgets/controls",
      "model_module_version": "1.5.0",
      "model_name": "DescriptionStyleModel",
      "state": {
       "description_width": ""
      }
     },
     "1c46535c919d40dd8b844ea68492bf11": {
      "model_module": "@jupyter-widgets/controls",
      "model_module_version": "1.5.0",
      "model_name": "CheckboxModel",
      "state": {
       "description": "Show 'help(func)'",
       "disabled": false,
       "layout": "IPY_MODEL_0d5001d281bb4fe9b42706a806154562",
       "style": "IPY_MODEL_613c4cada57b4fe0ab490241c163c4fc",
       "value": true
      }
     },
     "1e1a212949a3460389ed82c7f41d6d88": {
      "model_module": "@jupyter-widgets/controls",
      "model_module_version": "1.5.0",
      "model_name": "CheckboxModel",
      "state": {
       "description": "Show source filepath",
       "disabled": false,
       "layout": "IPY_MODEL_c8c37e8a1ed649d3a4661705ad4ab75e",
       "style": "IPY_MODEL_353ddfb984084298906d744f91deb862",
       "value": false
      }
     },
     "1f04679517294ae3bbec6c3a96a438be": {
      "model_module": "@jupyter-widgets/controls",
      "model_module_version": "1.5.0",
      "model_name": "CheckboxModel",
      "state": {
       "description": "Show source code",
       "disabled": false,
       "layout": "IPY_MODEL_63c81be700674e9cbc18f80b092e00b2",
       "style": "IPY_MODEL_54087ae3aed7476c96348d25c62501e5",
       "value": true
      }
     },
     "2279defda7f54df099209aecef7b6d8a": {
      "model_module": "@jupyter-widgets/output",
      "model_module_version": "1.0.0",
      "model_name": "OutputModel",
      "state": {
       "layout": "IPY_MODEL_bc34ad271bad421697862ee230434bb5",
       "outputs": [
        {
         "ename": "ModuleNotFoundError",
         "evalue": "No module named 'functions_combined_BEST'",
         "output_type": "error",
         "traceback": [
          "\u001b[1;31m---------------------------------------------------------------------------\u001b[0m",
          "\u001b[1;31mModuleNotFoundError\u001b[0m                       Traceback (most recent call last)",
          "\u001b[1;32m~\\Anaconda3\\envs\\learn-env-ext\\lib\\site-packages\\ipywidgets\\widgets\\interaction.py\u001b[0m in \u001b[0;36mobserver\u001b[1;34m(change)\u001b[0m\n\u001b[0;32m     77\u001b[0m         \u001b[1;32mwith\u001b[0m \u001b[0mout\u001b[0m\u001b[1;33m:\u001b[0m\u001b[1;33m\u001b[0m\u001b[1;33m\u001b[0m\u001b[0m\n\u001b[0;32m     78\u001b[0m             \u001b[0mclear_output\u001b[0m\u001b[1;33m(\u001b[0m\u001b[0mwait\u001b[0m\u001b[1;33m=\u001b[0m\u001b[1;32mTrue\u001b[0m\u001b[1;33m)\u001b[0m\u001b[1;33m\u001b[0m\u001b[1;33m\u001b[0m\u001b[0m\n\u001b[1;32m---> 79\u001b[1;33m             \u001b[0mf\u001b[0m\u001b[1;33m(\u001b[0m\u001b[1;33m**\u001b[0m\u001b[0mkwargs\u001b[0m\u001b[1;33m)\u001b[0m\u001b[1;33m\u001b[0m\u001b[1;33m\u001b[0m\u001b[0m\n\u001b[0m\u001b[0;32m     80\u001b[0m             \u001b[0mshow_inline_matplotlib_plots\u001b[0m\u001b[1;33m(\u001b[0m\u001b[1;33m)\u001b[0m\u001b[1;33m\u001b[0m\u001b[1;33m\u001b[0m\u001b[0m\n\u001b[0;32m     81\u001b[0m     \u001b[1;32mfor\u001b[0m \u001b[0mk\u001b[0m\u001b[1;33m,\u001b[0m\u001b[0mw\u001b[0m \u001b[1;32min\u001b[0m \u001b[0mcontrols\u001b[0m\u001b[1;33m.\u001b[0m\u001b[0mitems\u001b[0m\u001b[1;33m(\u001b[0m\u001b[1;33m)\u001b[0m\u001b[1;33m:\u001b[0m\u001b[1;33m\u001b[0m\u001b[1;33m\u001b[0m\u001b[0m\n",
          "\u001b[1;32mD:\\Users\\James\\Dropbox (Personal)\\CODING\\_FLATIRON\\Final Mod Projects_FIN\\testing-exporting-ipywidgets\\functions.py\u001b[0m in \u001b[0;36mshow_ihelp\u001b[1;34m(display_help, function, show_help, show_code, show_file)\u001b[0m\n\u001b[0;32m    173\u001b[0m \u001b[1;33m\u001b[0m\u001b[0m\n\u001b[0;32m    174\u001b[0m         \u001b[1;32mfrom\u001b[0m \u001b[0mIPython\u001b[0m\u001b[1;33m.\u001b[0m\u001b[0mdisplay\u001b[0m \u001b[1;32mimport\u001b[0m \u001b[0mMarkdown\u001b[0m\u001b[1;33m\u001b[0m\u001b[1;33m\u001b[0m\u001b[0m\n\u001b[1;32m--> 175\u001b[1;33m         \u001b[1;32mimport\u001b[0m \u001b[0mfunctions_combined_BEST\u001b[0m \u001b[1;32mas\u001b[0m \u001b[0mji\u001b[0m\u001b[1;33m\u001b[0m\u001b[1;33m\u001b[0m\u001b[0m\n\u001b[0m\u001b[0;32m    176\u001b[0m         \u001b[1;32mfrom\u001b[0m \u001b[0mIPython\u001b[0m\u001b[1;33m.\u001b[0m\u001b[0mdisplay\u001b[0m \u001b[1;32mimport\u001b[0m \u001b[0mdisplay\u001b[0m\u001b[1;33m\u001b[0m\u001b[1;33m\u001b[0m\u001b[0m\n\u001b[0;32m    177\u001b[0m         \u001b[0mpage_header\u001b[0m \u001b[1;33m=\u001b[0m \u001b[1;34m'---'\u001b[0m\u001b[1;33m*\u001b[0m\u001b[1;36m28\u001b[0m\u001b[1;33m\u001b[0m\u001b[1;33m\u001b[0m\u001b[0m\n",
          "\u001b[1;31mModuleNotFoundError\u001b[0m: No module named 'functions_combined_BEST'"
         ]
        }
       ]
      }
     },
     "236d598f0b314464a10b8c195f848624": {
      "model_module": "@jupyter-widgets/base",
      "model_module_version": "1.2.0",
      "model_name": "LayoutModel",
      "state": {}
     },
     "2615e952a1d442e3bf3cf3573b3cd959": {
      "model_module": "@jupyter-widgets/controls",
      "model_module_version": "1.5.0",
      "model_name": "HBoxModel",
      "state": {
       "children": [
        "IPY_MODEL_4b331f35a99041d9a0e2b0e5202796bc",
        "IPY_MODEL_1f04679517294ae3bbec6c3a96a438be",
        "IPY_MODEL_996b1e029e364e8eb48e9f58e965f1a2"
       ],
       "layout": "IPY_MODEL_672fe1ee4f0b45f3930aa058dd4e0d08"
      }
     },
     "26349f25a7ba4b85b9c6d54d109ea026": {
      "model_module": "@jupyter-widgets/base",
      "model_module_version": "1.2.0",
      "model_name": "LayoutModel",
      "state": {}
     },
     "26740088f9ba42e294056b0f267aa974": {
      "model_module": "@jupyter-widgets/base",
      "model_module_version": "1.2.0",
      "model_name": "LayoutModel",
      "state": {}
     },
     "2806f65b94a84faab127186b216ec43a": {
      "model_module": "@jupyter-widgets/controls",
      "model_module_version": "1.5.0",
      "model_name": "DropdownModel",
      "state": {
       "_options_labels": [
        "ihelp_menu2",
        "list2df",
        "save_model_weights_params"
       ],
       "index": 0,
       "layout": "IPY_MODEL_f06ef15208544b97af0587c4ad8a850d",
       "style": "IPY_MODEL_f88ac9c547d749fa96d621fa90f89c93"
      }
     },
     "2dd550bbedb54fd1b4057847adfe98fd": {
      "model_module": "@jupyter-widgets/controls",
      "model_module_version": "1.5.0",
      "model_name": "CheckboxModel",
      "state": {
       "description": "Show source code",
       "disabled": false,
       "layout": "IPY_MODEL_cc5f368456ca454f94014b82ce077436",
       "style": "IPY_MODEL_d38908a7e7b24900a2af2453498d0925",
       "value": true
      }
     },
     "2ea250aba3c9490b9bfff737f8ea8774": {
      "model_module": "@jupyter-widgets/controls",
      "model_module_version": "1.5.0",
      "model_name": "DescriptionStyleModel",
      "state": {
       "description_width": ""
      }
     },
     "2f412aedb62c415fae724678e27f7333": {
      "model_module": "@jupyter-widgets/base",
      "model_module_version": "1.2.0",
      "model_name": "LayoutModel",
      "state": {}
     },
     "3200d246f44645d795149410aaff0958": {
      "model_module": "@jupyter-widgets/controls",
      "model_module_version": "1.5.0",
      "model_name": "HBoxModel",
      "state": {
       "children": [
        "IPY_MODEL_cf2d354beae54c05b643126d89428884",
        "IPY_MODEL_0e229a6e88cc4a17b27c64fb3fe7976c",
        "IPY_MODEL_1e1a212949a3460389ed82c7f41d6d88"
       ],
       "layout": "IPY_MODEL_14222bdba3ae4548b17e18bee9c11a7f"
      }
     },
     "3413c89e51634d639568dbfe16da8915": {
      "model_module": "@jupyter-widgets/controls",
      "model_module_version": "1.5.0",
      "model_name": "ToggleButtonModel",
      "state": {
       "description": "Show/hide",
       "layout": "IPY_MODEL_f3e65307043946d3a7f60082ae22b3b5",
       "style": "IPY_MODEL_6f61e31da0bf43bba4dcacd79cd8b98a"
      }
     },
     "34db611a53e1421c9e82eed8e59acaa9": {
      "model_module": "@jupyter-widgets/base",
      "model_module_version": "1.2.0",
      "model_name": "LayoutModel",
      "state": {}
     },
     "353ddfb984084298906d744f91deb862": {
      "model_module": "@jupyter-widgets/controls",
      "model_module_version": "1.5.0",
      "model_name": "DescriptionStyleModel",
      "state": {
       "description_width": ""
      }
     },
     "37a362bef1be420aafc1a636cff95679": {
      "model_module": "@jupyter-widgets/controls",
      "model_module_version": "1.5.0",
      "model_name": "DescriptionStyleModel",
      "state": {
       "description_width": ""
      }
     },
     "3cf26dcda6594d17979f66608817729d": {
      "model_module": "@jupyter-widgets/controls",
      "model_module_version": "1.5.0",
      "model_name": "VBoxModel",
      "state": {
       "children": [
        "IPY_MODEL_bbf8a3aee7d94c93b436e466c596b91d",
        "IPY_MODEL_0303647d6f8d476ea9ae0665518927a7"
       ],
       "layout": "IPY_MODEL_dc0c8e191f974831aeab21f659f904dd"
      }
     },
     "3ecde4824e794c4095eb024a5b789dc0": {
      "model_module": "@jupyter-widgets/base",
      "model_module_version": "1.2.0",
      "model_name": "LayoutModel",
      "state": {}
     },
     "410e39b9f09d4f15b560da63f5cfc5f7": {
      "model_module": "@jupyter-widgets/base",
      "model_module_version": "1.2.0",
      "model_name": "LayoutModel",
      "state": {}
     },
     "42460e5eceb446bf9be023bbaeafb2a4": {
      "model_module": "@jupyter-widgets/controls",
      "model_module_version": "1.5.0",
      "model_name": "DescriptionStyleModel",
      "state": {
       "description_width": ""
      }
     },
     "4313d1c539eb48838e2186566a980057": {
      "model_module": "@jupyter-widgets/base",
      "model_module_version": "1.2.0",
      "model_name": "LayoutModel",
      "state": {}
     },
     "43411b694db6454684442d2a628fe0b7": {
      "model_module": "@jupyter-widgets/base",
      "model_module_version": "1.2.0",
      "model_name": "LayoutModel",
      "state": {}
     },
     "49a91e350b2f4b5c87384ac024b40025": {
      "model_module": "@jupyter-widgets/base",
      "model_module_version": "1.2.0",
      "model_name": "LayoutModel",
      "state": {}
     },
     "4b331f35a99041d9a0e2b0e5202796bc": {
      "model_module": "@jupyter-widgets/controls",
      "model_module_version": "1.5.0",
      "model_name": "CheckboxModel",
      "state": {
       "description": "Show 'help(func)'",
       "disabled": false,
       "layout": "IPY_MODEL_236d598f0b314464a10b8c195f848624",
       "style": "IPY_MODEL_675c1f75ec784cbcb3f703930954be76",
       "value": true
      }
     },
     "5032eb85619f458b82f003550b53e746": {
      "model_module": "@jupyter-widgets/controls",
      "model_module_version": "1.5.0",
      "model_name": "DescriptionStyleModel",
      "state": {
       "description_width": ""
      }
     },
     "50a299954fa74fa6a2d66e153942a584": {
      "model_module": "@jupyter-widgets/controls",
      "model_module_version": "1.5.0",
      "model_name": "DescriptionStyleModel",
      "state": {
       "description_width": ""
      }
     },
     "51906ecac200404ba6d0e052e48ca3dd": {
      "model_module": "@jupyter-widgets/controls",
      "model_module_version": "1.5.0",
      "model_name": "CheckboxModel",
      "state": {
       "description": "Show source filepath",
       "disabled": false,
       "layout": "IPY_MODEL_0c18cc70053d40d689cec6a0530888e0",
       "style": "IPY_MODEL_86c525edb39b4f36bef916dda32ffd19",
       "value": false
      }
     },
     "53ca0aef2964487cb3ada10a61a9a2dd": {
      "model_module": "@jupyter-widgets/controls",
      "model_module_version": "1.5.0",
      "model_name": "DescriptionStyleModel",
      "state": {
       "description_width": ""
      }
     },
     "54087ae3aed7476c96348d25c62501e5": {
      "model_module": "@jupyter-widgets/controls",
      "model_module_version": "1.5.0",
      "model_name": "DescriptionStyleModel",
      "state": {
       "description_width": ""
      }
     },
     "544df278eb7b4d158aedf964afdac532": {
      "model_module": "@jupyter-widgets/base",
      "model_module_version": "1.2.0",
      "model_name": "LayoutModel",
      "state": {}
     },
     "56df541a5e5043ea9f5e0bb475ec2f80": {
      "model_module": "@jupyter-widgets/controls",
      "model_module_version": "1.5.0",
      "model_name": "HBoxModel",
      "state": {
       "children": [
        "IPY_MODEL_a1d583ba84ce40d182afd59ea820c118",
        "IPY_MODEL_ee0d3bc279a84231afb7d38432496487",
        "IPY_MODEL_b2a9783988f5496ba2110aec4af3575e"
       ],
       "layout": "IPY_MODEL_cb0b5fcd34fe4a709ebfa539d3043861"
      }
     },
     "5d77d67648b54d538c9e6d06848a5e5f": {
      "model_module": "@jupyter-widgets/controls",
      "model_module_version": "1.5.0",
      "model_name": "GridBoxModel",
      "state": {
       "box_style": "warning",
       "children": [
        "IPY_MODEL_f8fa0d54d8544f5ea19916199fdc84e2",
        "IPY_MODEL_5eaac00076e1410bb6e8a15acb55312c"
       ],
       "layout": "IPY_MODEL_9d00537046824ffb88cef939eb735c6d"
      }
     },
     "5da8e023b20a4305b8ae1a89ae97ebc2": {
      "model_module": "@jupyter-widgets/base",
      "model_module_version": "1.2.0",
      "model_name": "LayoutModel",
      "state": {}
     },
     "5e68dd513efb4345ac503c827fc31ffb": {
      "model_module": "@jupyter-widgets/controls",
      "model_module_version": "1.5.0",
      "model_name": "CheckboxModel",
      "state": {
       "description": "Show source filepath",
       "disabled": false,
       "layout": "IPY_MODEL_9422a302f4c74d3c8f9e43c85422fff1",
       "style": "IPY_MODEL_1c2b58cec0b54736a14c6370579bc0e9",
       "value": false
      }
     },
     "5e9d546a1c5147988ae61b48670e0f8e": {
      "model_module": "@jupyter-widgets/controls",
      "model_module_version": "1.5.0",
      "model_name": "DescriptionStyleModel",
      "state": {
       "description_width": ""
      }
     },
     "5eaac00076e1410bb6e8a15acb55312c": {
      "model_module": "@jupyter-widgets/controls",
      "model_module_version": "1.5.0",
      "model_name": "HBoxModel",
      "state": {
       "children": [
        "IPY_MODEL_f24cea8c897443daa6b115de16722c19",
        "IPY_MODEL_e9a1b7ad1eaf43a58170c61c34614149",
        "IPY_MODEL_9111f5594c4e411893f60edccef9a6fa"
       ],
       "layout": "IPY_MODEL_544df278eb7b4d158aedf964afdac532"
      }
     },
     "613c4cada57b4fe0ab490241c163c4fc": {
      "model_module": "@jupyter-widgets/controls",
      "model_module_version": "1.5.0",
      "model_name": "DescriptionStyleModel",
      "state": {
       "description_width": ""
      }
     },
     "63c81be700674e9cbc18f80b092e00b2": {
      "model_module": "@jupyter-widgets/base",
      "model_module_version": "1.2.0",
      "model_name": "LayoutModel",
      "state": {}
     },
     "672fe1ee4f0b45f3930aa058dd4e0d08": {
      "model_module": "@jupyter-widgets/base",
      "model_module_version": "1.2.0",
      "model_name": "LayoutModel",
      "state": {}
     },
     "675c1f75ec784cbcb3f703930954be76": {
      "model_module": "@jupyter-widgets/controls",
      "model_module_version": "1.5.0",
      "model_name": "DescriptionStyleModel",
      "state": {
       "description_width": ""
      }
     },
     "68b203754e544bacb1659ec00fe4f717": {
      "model_module": "@jupyter-widgets/base",
      "model_module_version": "1.2.0",
      "model_name": "LayoutModel",
      "state": {}
     },
     "69abf163ee5c49ae85ecfa9dcf798996": {
      "model_module": "@jupyter-widgets/base",
      "model_module_version": "1.2.0",
      "model_name": "LayoutModel",
      "state": {}
     },
     "6f61e31da0bf43bba4dcacd79cd8b98a": {
      "model_module": "@jupyter-widgets/controls",
      "model_module_version": "1.5.0",
      "model_name": "DescriptionStyleModel",
      "state": {
       "description_width": ""
      }
     },
     "719173c568204e159daa104ca951ab01": {
      "model_module": "@jupyter-widgets/controls",
      "model_module_version": "1.5.0",
      "model_name": "DescriptionStyleModel",
      "state": {
       "description_width": ""
      }
     },
     "71b88354b0f743b08cdb18f297818bf2": {
      "model_module": "@jupyter-widgets/output",
      "model_module_version": "1.0.0",
      "model_name": "OutputModel",
      "state": {
       "layout": "IPY_MODEL_d8915e5489e344338f8d41a0dffc067c",
       "outputs": [
        {
         "data": {
          "text/plain": "'Press \"Show/hide\" for display'"
         },
         "metadata": {},
         "output_type": "display_data"
        }
       ]
      }
     },
     "71bc5b1a2e6142be8ad219429a6ce9c6": {
      "model_module": "@jupyter-widgets/base",
      "model_module_version": "1.2.0",
      "model_name": "LayoutModel",
      "state": {}
     },
     "72f1daaf664b4108a45ef5325099991a": {
      "model_module": "@jupyter-widgets/base",
      "model_module_version": "1.2.0",
      "model_name": "LayoutModel",
      "state": {}
     },
     "733190f76adb4e7880fd51b367496a58": {
      "model_module": "@jupyter-widgets/base",
      "model_module_version": "1.2.0",
      "model_name": "LayoutModel",
      "state": {}
     },
     "75faf47952504331b0ab0d3650759d6b": {
      "model_module": "@jupyter-widgets/controls",
      "model_module_version": "1.5.0",
      "model_name": "HBoxModel",
      "state": {
       "children": [
        "IPY_MODEL_d4655a37259f4d73bb34591d928be444",
        "IPY_MODEL_7800afa37357452c89cf78c451973485",
        "IPY_MODEL_d9f691ac9dfd41358680832a7748d602"
       ],
       "layout": "IPY_MODEL_a78c1901c8e6411aa61d622138d0ef50"
      }
     },
     "7800afa37357452c89cf78c451973485": {
      "model_module": "@jupyter-widgets/controls",
      "model_module_version": "1.5.0",
      "model_name": "DropdownModel",
      "state": {
       "_options_labels": [
        "ihelp_menu2",
        "list2df",
        "save_model_weights_params"
       ],
       "index": 0,
       "layout": "IPY_MODEL_ab15d77309534c81a76cd3a6f11f68ba",
       "style": "IPY_MODEL_9d2b9bfde8ec4995b54b838887d925c9"
      }
     },
     "78c0a5cb742c4a2695e43028b32b8c68": {
      "model_module": "@jupyter-widgets/controls",
      "model_module_version": "1.5.0",
      "model_name": "DescriptionStyleModel",
      "state": {
       "description_width": ""
      }
     },
     "7a180783c4334adb8e6e2d5a10f7bd30": {
      "model_module": "@jupyter-widgets/controls",
      "model_module_version": "1.5.0",
      "model_name": "DescriptionStyleModel",
      "state": {
       "description_width": ""
      }
     },
     "7c5ab67201224bc8815873f2f88d1a8d": {
      "model_module": "@jupyter-widgets/base",
      "model_module_version": "1.2.0",
      "model_name": "LayoutModel",
      "state": {}
     },
     "82867164cd114d04a05870801ebe4810": {
      "model_module": "@jupyter-widgets/base",
      "model_module_version": "1.2.0",
      "model_name": "LayoutModel",
      "state": {}
     },
     "85492e1949a147918c834560843371be": {
      "model_module": "@jupyter-widgets/controls",
      "model_module_version": "1.5.0",
      "model_name": "DescriptionStyleModel",
      "state": {
       "description_width": ""
      }
     },
     "86c525edb39b4f36bef916dda32ffd19": {
      "model_module": "@jupyter-widgets/controls",
      "model_module_version": "1.5.0",
      "model_name": "DescriptionStyleModel",
      "state": {
       "description_width": ""
      }
     },
     "8eabbcf106724a1db6df1fad0665db65": {
      "model_module": "@jupyter-widgets/controls",
      "model_module_version": "1.5.0",
      "model_name": "DropdownModel",
      "state": {
       "_options_labels": [
        "ihelp_menu2",
        "list2df",
        "save_model_weights_params"
       ],
       "index": 0,
       "layout": "IPY_MODEL_69abf163ee5c49ae85ecfa9dcf798996",
       "style": "IPY_MODEL_93564a61e11f433ebf2c5617fb5f3ba0"
      }
     },
     "9111f5594c4e411893f60edccef9a6fa": {
      "model_module": "@jupyter-widgets/controls",
      "model_module_version": "1.5.0",
      "model_name": "CheckboxModel",
      "state": {
       "description": "Show source filepath",
       "disabled": false,
       "layout": "IPY_MODEL_09d92e0fcc034d778cc5a601fbfb8e64",
       "style": "IPY_MODEL_d3cbe542230741b88bd28b76dc668042",
       "value": false
      }
     },
     "93564a61e11f433ebf2c5617fb5f3ba0": {
      "model_module": "@jupyter-widgets/controls",
      "model_module_version": "1.5.0",
      "model_name": "DescriptionStyleModel",
      "state": {
       "description_width": ""
      }
     },
     "9422a302f4c74d3c8f9e43c85422fff1": {
      "model_module": "@jupyter-widgets/base",
      "model_module_version": "1.2.0",
      "model_name": "LayoutModel",
      "state": {}
     },
     "95b1b9cd344b41c1a097f6c5af0aaafd": {
      "model_module": "@jupyter-widgets/base",
      "model_module_version": "1.2.0",
      "model_name": "LayoutModel",
      "state": {}
     },
     "968ddb78f78542d1aa9c6280abcff923": {
      "model_module": "@jupyter-widgets/controls",
      "model_module_version": "1.5.0",
      "model_name": "ToggleButtonModel",
      "state": {
       "description": "Show/hide",
       "layout": "IPY_MODEL_0b893b1c7bc14b468459e06684932643",
       "style": "IPY_MODEL_d447435844a64f5ba495ecac1164c7a4"
      }
     },
     "9691de8afd324b659c51bc162cab4f7b": {
      "model_module": "@jupyter-widgets/controls",
      "model_module_version": "1.5.0",
      "model_name": "DescriptionStyleModel",
      "state": {
       "description_width": ""
      }
     },
     "9707468261bd4fff9cec3f9e86d8711b": {
      "model_module": "@jupyter-widgets/base",
      "model_module_version": "1.2.0",
      "model_name": "LayoutModel",
      "state": {}
     },
     "991cda115376481d9d217b8d97b0185a": {
      "model_module": "@jupyter-widgets/controls",
      "model_module_version": "1.5.0",
      "model_name": "DescriptionStyleModel",
      "state": {
       "description_width": ""
      }
     },
     "996b1e029e364e8eb48e9f58e965f1a2": {
      "model_module": "@jupyter-widgets/controls",
      "model_module_version": "1.5.0",
      "model_name": "CheckboxModel",
      "state": {
       "description": "Show source filepath",
       "disabled": false,
       "layout": "IPY_MODEL_a7c865ad9e59488e8f7470303ad002f7",
       "style": "IPY_MODEL_b7770a6a750b490cb2626bb04ba0abb2",
       "value": false
      }
     },
     "9d00537046824ffb88cef939eb735c6d": {
      "model_module": "@jupyter-widgets/base",
      "model_module_version": "1.2.0",
      "model_name": "LayoutModel",
      "state": {}
     },
     "9d2b9bfde8ec4995b54b838887d925c9": {
      "model_module": "@jupyter-widgets/controls",
      "model_module_version": "1.5.0",
      "model_name": "DescriptionStyleModel",
      "state": {
       "description_width": ""
      }
     },
     "9f1283af3d1d45978ffc1c294f1169b3": {
      "model_module": "@jupyter-widgets/base",
      "model_module_version": "1.2.0",
      "model_name": "LayoutModel",
      "state": {}
     },
     "a1d583ba84ce40d182afd59ea820c118": {
      "model_module": "@jupyter-widgets/controls",
      "model_module_version": "1.5.0",
      "model_name": "LabelModel",
      "state": {
       "layout": "IPY_MODEL_df7f0df7a21f4f8785e5614ee1b38a34",
       "style": "IPY_MODEL_5032eb85619f458b82f003550b53e746",
       "value": "Function Menu"
      }
     },
     "a6073f3da38448c7ada86fdb8a3e0ef3": {
      "model_module": "@jupyter-widgets/controls",
      "model_module_version": "1.5.0",
      "model_name": "DescriptionStyleModel",
      "state": {
       "description_width": ""
      }
     },
     "a6a77b2dc08640ce8028957a8028051f": {
      "model_module": "@jupyter-widgets/controls",
      "model_module_version": "1.5.0",
      "model_name": "HBoxModel",
      "state": {
       "children": [
        "IPY_MODEL_f627f6e0a52b4e0db2f5dfc56e30be5d",
        "IPY_MODEL_8eabbcf106724a1db6df1fad0665db65",
        "IPY_MODEL_3413c89e51634d639568dbfe16da8915"
       ],
       "layout": "IPY_MODEL_f00c41635f5e46d9a1ca5d3c7ccd20a8"
      }
     },
     "a6cc891cae0548e0b12f9d2d91f83baf": {
      "model_module": "@jupyter-widgets/base",
      "model_module_version": "1.2.0",
      "model_name": "LayoutModel",
      "state": {}
     },
     "a6de20b8d4d04b3e8dfb68f7d52e5778": {
      "model_module": "@jupyter-widgets/base",
      "model_module_version": "1.2.0",
      "model_name": "LayoutModel",
      "state": {}
     },
     "a78c1901c8e6411aa61d622138d0ef50": {
      "model_module": "@jupyter-widgets/base",
      "model_module_version": "1.2.0",
      "model_name": "LayoutModel",
      "state": {}
     },
     "a7c865ad9e59488e8f7470303ad002f7": {
      "model_module": "@jupyter-widgets/base",
      "model_module_version": "1.2.0",
      "model_name": "LayoutModel",
      "state": {}
     },
     "a95f08c980104888aef0dd6edc0145e6": {
      "model_module": "@jupyter-widgets/controls",
      "model_module_version": "1.5.0",
      "model_name": "CheckboxModel",
      "state": {
       "description": "Show source code",
       "disabled": false,
       "layout": "IPY_MODEL_c14ec9e1c45c474fa6694882338d375a",
       "style": "IPY_MODEL_78c0a5cb742c4a2695e43028b32b8c68",
       "value": true
      }
     },
     "ab15d77309534c81a76cd3a6f11f68ba": {
      "model_module": "@jupyter-widgets/base",
      "model_module_version": "1.2.0",
      "model_name": "LayoutModel",
      "state": {}
     },
     "ae5fe6d4c03d4b6da86fec88509091b7": {
      "model_module": "@jupyter-widgets/controls",
      "model_module_version": "1.5.0",
      "model_name": "HBoxModel",
      "state": {
       "children": [
        "IPY_MODEL_e34e7103a2124af48a97e0d2ae900364",
        "IPY_MODEL_a95f08c980104888aef0dd6edc0145e6",
        "IPY_MODEL_5e68dd513efb4345ac503c827fc31ffb"
       ],
       "layout": "IPY_MODEL_eb4c14256fdc4160b2cf9731a485bc69"
      }
     },
     "b029dd41a21a420bab17dcc39bdc6170": {
      "model_module": "@jupyter-widgets/controls",
      "model_module_version": "1.5.0",
      "model_name": "LabelModel",
      "state": {
       "layout": "IPY_MODEL_82867164cd114d04a05870801ebe4810",
       "style": "IPY_MODEL_c5daf446397546949b620061f8a45110",
       "value": "Function Menu"
      }
     },
     "b2a9783988f5496ba2110aec4af3575e": {
      "model_module": "@jupyter-widgets/controls",
      "model_module_version": "1.5.0",
      "model_name": "ToggleButtonModel",
      "state": {
       "description": "Show/hide",
       "layout": "IPY_MODEL_410e39b9f09d4f15b560da63f5cfc5f7",
       "style": "IPY_MODEL_e98c2edf77594c65961204fb92dd97c1"
      }
     },
     "b2f7baa4fb13468ab7d312c298c9709b": {
      "model_module": "@jupyter-widgets/base",
      "model_module_version": "1.2.0",
      "model_name": "LayoutModel",
      "state": {}
     },
     "b7770a6a750b490cb2626bb04ba0abb2": {
      "model_module": "@jupyter-widgets/controls",
      "model_module_version": "1.5.0",
      "model_name": "DescriptionStyleModel",
      "state": {
       "description_width": ""
      }
     },
     "bbeb79f7af1c48aa9388fe79ffb24c83": {
      "model_module": "@jupyter-widgets/controls",
      "model_module_version": "1.5.0",
      "model_name": "VBoxModel",
      "state": {
       "children": [
        "IPY_MODEL_d2a029cb4dfc4cdeaf3f0d3cfeb6ac35",
        "IPY_MODEL_fed9cd98eb274483a5a17828915a7164"
       ],
       "layout": "IPY_MODEL_a6cc891cae0548e0b12f9d2d91f83baf"
      }
     },
     "bbf8a3aee7d94c93b436e466c596b91d": {
      "model_module": "@jupyter-widgets/controls",
      "model_module_version": "1.5.0",
      "model_name": "LabelModel",
      "state": {
       "layout": "IPY_MODEL_c9288fe6191040a7ad6911428516772d",
       "style": "IPY_MODEL_991cda115376481d9d217b8d97b0185a",
       "value": "iHelp Menu: View Help and/or Source Code"
      }
     },
     "bc34ad271bad421697862ee230434bb5": {
      "model_module": "@jupyter-widgets/base",
      "model_module_version": "1.2.0",
      "model_name": "LayoutModel",
      "state": {}
     },
     "bc5697808543454fb5eeb75b66f3a4f7": {
      "model_module": "@jupyter-widgets/base",
      "model_module_version": "1.2.0",
      "model_name": "LayoutModel",
      "state": {}
     },
     "bc850d11647148219b774b40bb17f5a8": {
      "model_module": "@jupyter-widgets/controls",
      "model_module_version": "1.5.0",
      "model_name": "DropdownModel",
      "state": {
       "_options_labels": [
        "ihelp_menu2",
        "list2df",
        "save_model_weights_params"
       ],
       "index": 0,
       "layout": "IPY_MODEL_e2c503e7dc2c4552a2f04c469fd82a05",
       "style": "IPY_MODEL_9691de8afd324b659c51bc162cab4f7b"
      }
     },
     "bd2ce83974dc4566bf12feeba7993d9b": {
      "model_module": "@jupyter-widgets/base",
      "model_module_version": "1.2.0",
      "model_name": "LayoutModel",
      "state": {}
     },
     "bdcef1dcc0f34758be6bd990eb1fd179": {
      "model_module": "@jupyter-widgets/base",
      "model_module_version": "1.2.0",
      "model_name": "LayoutModel",
      "state": {}
     },
     "c071fad4f132402f81222dc5b4e040e1": {
      "model_module": "@jupyter-widgets/controls",
      "model_module_version": "1.5.0",
      "model_name": "DescriptionStyleModel",
      "state": {
       "description_width": ""
      }
     },
     "c0799e95674340cba3d1d08265a8cb8e": {
      "model_module": "@jupyter-widgets/base",
      "model_module_version": "1.2.0",
      "model_name": "LayoutModel",
      "state": {}
     },
     "c14ec9e1c45c474fa6694882338d375a": {
      "model_module": "@jupyter-widgets/base",
      "model_module_version": "1.2.0",
      "model_name": "LayoutModel",
      "state": {}
     },
     "c5daf446397546949b620061f8a45110": {
      "model_module": "@jupyter-widgets/controls",
      "model_module_version": "1.5.0",
      "model_name": "DescriptionStyleModel",
      "state": {
       "description_width": ""
      }
     },
     "c8c37e8a1ed649d3a4661705ad4ab75e": {
      "model_module": "@jupyter-widgets/base",
      "model_module_version": "1.2.0",
      "model_name": "LayoutModel",
      "state": {}
     },
     "c9288fe6191040a7ad6911428516772d": {
      "model_module": "@jupyter-widgets/base",
      "model_module_version": "1.2.0",
      "model_name": "LayoutModel",
      "state": {}
     },
     "cb0b5fcd34fe4a709ebfa539d3043861": {
      "model_module": "@jupyter-widgets/base",
      "model_module_version": "1.2.0",
      "model_name": "LayoutModel",
      "state": {}
     },
     "cc5f368456ca454f94014b82ce077436": {
      "model_module": "@jupyter-widgets/base",
      "model_module_version": "1.2.0",
      "model_name": "LayoutModel",
      "state": {}
     },
     "cd99a62842724e198d6e23388d9c1680": {
      "model_module": "@jupyter-widgets/controls",
      "model_module_version": "1.5.0",
      "model_name": "GridBoxModel",
      "state": {
       "box_style": "warning",
       "children": [
        "IPY_MODEL_fbf3567bb73448d49d2257a84bccbc02",
        "IPY_MODEL_06a8f2689bf54883b978417223eb0d18"
       ],
       "layout": "IPY_MODEL_5da8e023b20a4305b8ae1a89ae97ebc2"
      }
     },
     "ce0dc5a856ba4a9c861081e138e24aad": {
      "model_module": "@jupyter-widgets/controls",
      "model_module_version": "1.5.0",
      "model_name": "ToggleButtonModel",
      "state": {
       "description": "Show/hide",
       "layout": "IPY_MODEL_3ecde4824e794c4095eb024a5b789dc0",
       "style": "IPY_MODEL_02c38793b6ec4425abac66c73afc536a"
      }
     },
     "cef934d139f247c8b8ee0a35100a0d0f": {
      "model_module": "@jupyter-widgets/controls",
      "model_module_version": "1.5.0",
      "model_name": "GridBoxModel",
      "state": {
       "box_style": "warning",
       "children": [
        "IPY_MODEL_bbeb79f7af1c48aa9388fe79ffb24c83",
        "IPY_MODEL_ae5fe6d4c03d4b6da86fec88509091b7"
       ],
       "layout": "IPY_MODEL_c0799e95674340cba3d1d08265a8cb8e"
      }
     },
     "cf2d354beae54c05b643126d89428884": {
      "model_module": "@jupyter-widgets/controls",
      "model_module_version": "1.5.0",
      "model_name": "CheckboxModel",
      "state": {
       "description": "Show 'help(func)'",
       "disabled": false,
       "layout": "IPY_MODEL_11ef816826844805b6136c9290e1c7ca",
       "style": "IPY_MODEL_37a362bef1be420aafc1a636cff95679",
       "value": false
      }
     },
     "d2a029cb4dfc4cdeaf3f0d3cfeb6ac35": {
      "model_module": "@jupyter-widgets/controls",
      "model_module_version": "1.5.0",
      "model_name": "LabelModel",
      "state": {
       "layout": "IPY_MODEL_d8aafb6938e842b3ad2780b6b36f94ed",
       "style": "IPY_MODEL_42460e5eceb446bf9be023bbaeafb2a4",
       "value": "iHelp Menu: View Help and/or Source Code"
      }
     },
     "d38908a7e7b24900a2af2453498d0925": {
      "model_module": "@jupyter-widgets/controls",
      "model_module_version": "1.5.0",
      "model_name": "DescriptionStyleModel",
      "state": {
       "description_width": ""
      }
     },
     "d3cbe542230741b88bd28b76dc668042": {
      "model_module": "@jupyter-widgets/controls",
      "model_module_version": "1.5.0",
      "model_name": "DescriptionStyleModel",
      "state": {
       "description_width": ""
      }
     },
     "d447435844a64f5ba495ecac1164c7a4": {
      "model_module": "@jupyter-widgets/controls",
      "model_module_version": "1.5.0",
      "model_name": "DescriptionStyleModel",
      "state": {
       "description_width": ""
      }
     },
     "d4655a37259f4d73bb34591d928be444": {
      "model_module": "@jupyter-widgets/controls",
      "model_module_version": "1.5.0",
      "model_name": "LabelModel",
      "state": {
       "layout": "IPY_MODEL_9707468261bd4fff9cec3f9e86d8711b",
       "style": "IPY_MODEL_50a299954fa74fa6a2d66e153942a584",
       "value": "Function Menu"
      }
     },
     "d8915e5489e344338f8d41a0dffc067c": {
      "model_module": "@jupyter-widgets/base",
      "model_module_version": "1.2.0",
      "model_name": "LayoutModel",
      "state": {}
     },
     "d8aafb6938e842b3ad2780b6b36f94ed": {
      "model_module": "@jupyter-widgets/base",
      "model_module_version": "1.2.0",
      "model_name": "LayoutModel",
      "state": {}
     },
     "d9f691ac9dfd41358680832a7748d602": {
      "model_module": "@jupyter-widgets/controls",
      "model_module_version": "1.5.0",
      "model_name": "ToggleButtonModel",
      "state": {
       "description": "Show/hide",
       "layout": "IPY_MODEL_7c5ab67201224bc8815873f2f88d1a8d",
       "style": "IPY_MODEL_fc98b439b9d84ea59113afb198bc2bc4"
      }
     },
     "dc0c8e191f974831aeab21f659f904dd": {
      "model_module": "@jupyter-widgets/base",
      "model_module_version": "1.2.0",
      "model_name": "LayoutModel",
      "state": {}
     },
     "dc1775aa395044d386ec56ee0cfd114d": {
      "model_module": "@jupyter-widgets/base",
      "model_module_version": "1.2.0",
      "model_name": "LayoutModel",
      "state": {}
     },
     "dc5e3834f80345db96686a9e400c4e00": {
      "model_module": "@jupyter-widgets/controls",
      "model_module_version": "1.5.0",
      "model_name": "GridBoxModel",
      "state": {
       "box_style": "warning",
       "children": [
        "IPY_MODEL_f82194f7cfa4446491e36f155f6cfbf2",
        "IPY_MODEL_3200d246f44645d795149410aaff0958"
       ],
       "layout": "IPY_MODEL_dc1775aa395044d386ec56ee0cfd114d"
      }
     },
     "df7f0df7a21f4f8785e5614ee1b38a34": {
      "model_module": "@jupyter-widgets/base",
      "model_module_version": "1.2.0",
      "model_name": "LayoutModel",
      "state": {}
     },
     "e1136ccd398c4b0c813ba4e6a1be10a5": {
      "model_module": "@jupyter-widgets/controls",
      "model_module_version": "1.5.0",
      "model_name": "DescriptionStyleModel",
      "state": {
       "description_width": ""
      }
     },
     "e2c503e7dc2c4552a2f04c469fd82a05": {
      "model_module": "@jupyter-widgets/base",
      "model_module_version": "1.2.0",
      "model_name": "LayoutModel",
      "state": {}
     },
     "e34e7103a2124af48a97e0d2ae900364": {
      "model_module": "@jupyter-widgets/controls",
      "model_module_version": "1.5.0",
      "model_name": "CheckboxModel",
      "state": {
       "description": "Show 'help(func)'",
       "disabled": false,
       "layout": "IPY_MODEL_2f412aedb62c415fae724678e27f7333",
       "style": "IPY_MODEL_e1136ccd398c4b0c813ba4e6a1be10a5",
       "value": true
      }
     },
     "e6932f5ced2b42d681a66f0b301a024f": {
      "model_module": "@jupyter-widgets/controls",
      "model_module_version": "1.5.0",
      "model_name": "LabelModel",
      "state": {
       "layout": "IPY_MODEL_26349f25a7ba4b85b9c6d54d109ea026",
       "style": "IPY_MODEL_1455672c9e0d4b5baf0b6dd454bd8140",
       "value": "iHelp Menu: View Help and/or Source Code"
      }
     },
     "e98c2edf77594c65961204fb92dd97c1": {
      "model_module": "@jupyter-widgets/controls",
      "model_module_version": "1.5.0",
      "model_name": "DescriptionStyleModel",
      "state": {
       "description_width": ""
      }
     },
     "e9a1b7ad1eaf43a58170c61c34614149": {
      "model_module": "@jupyter-widgets/controls",
      "model_module_version": "1.5.0",
      "model_name": "CheckboxModel",
      "state": {
       "description": "Show source code",
       "disabled": false,
       "layout": "IPY_MODEL_72f1daaf664b4108a45ef5325099991a",
       "style": "IPY_MODEL_719173c568204e159daa104ca951ab01",
       "value": true
      }
     },
     "eb4c14256fdc4160b2cf9731a485bc69": {
      "model_module": "@jupyter-widgets/base",
      "model_module_version": "1.2.0",
      "model_name": "LayoutModel",
      "state": {}
     },
     "ee0d3bc279a84231afb7d38432496487": {
      "model_module": "@jupyter-widgets/controls",
      "model_module_version": "1.5.0",
      "model_name": "DropdownModel",
      "state": {
       "_options_labels": [
        "ihelp_menu2",
        "list2df",
        "save_model_weights_params"
       ],
       "index": 0,
       "layout": "IPY_MODEL_bdcef1dcc0f34758be6bd990eb1fd179",
       "style": "IPY_MODEL_2ea250aba3c9490b9bfff737f8ea8774"
      }
     },
     "ef0838196a8448d19944f09a0dceff60": {
      "model_module": "@jupyter-widgets/base",
      "model_module_version": "1.2.0",
      "model_name": "LayoutModel",
      "state": {}
     },
     "f00c41635f5e46d9a1ca5d3c7ccd20a8": {
      "model_module": "@jupyter-widgets/base",
      "model_module_version": "1.2.0",
      "model_name": "LayoutModel",
      "state": {}
     },
     "f06ef15208544b97af0587c4ad8a850d": {
      "model_module": "@jupyter-widgets/base",
      "model_module_version": "1.2.0",
      "model_name": "LayoutModel",
      "state": {}
     },
     "f24cea8c897443daa6b115de16722c19": {
      "model_module": "@jupyter-widgets/controls",
      "model_module_version": "1.5.0",
      "model_name": "CheckboxModel",
      "state": {
       "description": "Show 'help(func)'",
       "disabled": false,
       "layout": "IPY_MODEL_26740088f9ba42e294056b0f267aa974",
       "style": "IPY_MODEL_c071fad4f132402f81222dc5b4e040e1",
       "value": true
      }
     },
     "f38da1470d7e4369bc3a18959edc38b4": {
      "model_module": "@jupyter-widgets/controls",
      "model_module_version": "1.5.0",
      "model_name": "LabelModel",
      "state": {
       "layout": "IPY_MODEL_49a91e350b2f4b5c87384ac024b40025",
       "style": "IPY_MODEL_7a180783c4334adb8e6e2d5a10f7bd30",
       "value": "iHelp Menu: View Help and/or Source Code"
      }
     },
     "f3999d20437e410da1c08c7c66d290b1": {
      "model_module": "@jupyter-widgets/output",
      "model_module_version": "1.0.0",
      "model_name": "OutputModel",
      "state": {
       "layout": "IPY_MODEL_4313d1c539eb48838e2186566a980057",
       "outputs": [
        {
         "data": {
          "text/plain": "'Press \"Show/hide\" for display'"
         },
         "metadata": {},
         "output_type": "display_data"
        }
       ]
      }
     },
     "f3e65307043946d3a7f60082ae22b3b5": {
      "model_module": "@jupyter-widgets/base",
      "model_module_version": "1.2.0",
      "model_name": "LayoutModel",
      "state": {}
     },
     "f627f6e0a52b4e0db2f5dfc56e30be5d": {
      "model_module": "@jupyter-widgets/controls",
      "model_module_version": "1.5.0",
      "model_name": "LabelModel",
      "state": {
       "layout": "IPY_MODEL_9f1283af3d1d45978ffc1c294f1169b3",
       "style": "IPY_MODEL_5e9d546a1c5147988ae61b48670e0f8e",
       "value": "Function Menu"
      }
     },
     "f82194f7cfa4446491e36f155f6cfbf2": {
      "model_module": "@jupyter-widgets/controls",
      "model_module_version": "1.5.0",
      "model_name": "VBoxModel",
      "state": {
       "children": [
        "IPY_MODEL_e6932f5ced2b42d681a66f0b301a024f",
        "IPY_MODEL_56df541a5e5043ea9f5e0bb475ec2f80"
       ],
       "layout": "IPY_MODEL_43411b694db6454684442d2a628fe0b7"
      }
     },
     "f88ac9c547d749fa96d621fa90f89c93": {
      "model_module": "@jupyter-widgets/controls",
      "model_module_version": "1.5.0",
      "model_name": "DescriptionStyleModel",
      "state": {
       "description_width": ""
      }
     },
     "f8fa0d54d8544f5ea19916199fdc84e2": {
      "model_module": "@jupyter-widgets/controls",
      "model_module_version": "1.5.0",
      "model_name": "VBoxModel",
      "state": {
       "children": [
        "IPY_MODEL_0da26a41bfd543c7a1047cfff72bf602",
        "IPY_MODEL_a6a77b2dc08640ce8028957a8028051f"
       ],
       "layout": "IPY_MODEL_bd2ce83974dc4566bf12feeba7993d9b"
      }
     },
     "fbf3567bb73448d49d2257a84bccbc02": {
      "model_module": "@jupyter-widgets/controls",
      "model_module_version": "1.5.0",
      "model_name": "VBoxModel",
      "state": {
       "children": [
        "IPY_MODEL_f38da1470d7e4369bc3a18959edc38b4",
        "IPY_MODEL_75faf47952504331b0ab0d3650759d6b"
       ],
       "layout": "IPY_MODEL_b2f7baa4fb13468ab7d312c298c9709b"
      }
     },
     "fc5508f433ab44deb33c866c5f95ef86": {
      "model_module": "@jupyter-widgets/output",
      "model_module_version": "1.0.0",
      "model_name": "OutputModel",
      "state": {
       "layout": "IPY_MODEL_71bc5b1a2e6142be8ad219429a6ce9c6",
       "outputs": [
        {
         "data": {
          "text/plain": "'Press \"Show/hide\" for display'"
         },
         "metadata": {},
         "output_type": "display_data"
        }
       ]
      }
     },
     "fc98b439b9d84ea59113afb198bc2bc4": {
      "model_module": "@jupyter-widgets/controls",
      "model_module_version": "1.5.0",
      "model_name": "DescriptionStyleModel",
      "state": {
       "description_width": ""
      }
     },
     "fdf136d29bd04c75943392d0ce9091fc": {
      "model_module": "@jupyter-widgets/controls",
      "model_module_version": "1.5.0",
      "model_name": "GridBoxModel",
      "state": {
       "box_style": "warning",
       "children": [
        "IPY_MODEL_3cf26dcda6594d17979f66608817729d",
        "IPY_MODEL_2615e952a1d442e3bf3cf3573b3cd959"
       ],
       "layout": "IPY_MODEL_ef0838196a8448d19944f09a0dceff60"
      }
     },
     "fed9cd98eb274483a5a17828915a7164": {
      "model_module": "@jupyter-widgets/controls",
      "model_module_version": "1.5.0",
      "model_name": "HBoxModel",
      "state": {
       "children": [
        "IPY_MODEL_ffe7e160a7df4f419512ee1ebd2ded64",
        "IPY_MODEL_bc850d11647148219b774b40bb17f5a8",
        "IPY_MODEL_968ddb78f78542d1aa9c6280abcff923"
       ],
       "layout": "IPY_MODEL_95b1b9cd344b41c1a097f6c5af0aaafd"
      }
     },
     "ffe7e160a7df4f419512ee1ebd2ded64": {
      "model_module": "@jupyter-widgets/controls",
      "model_module_version": "1.5.0",
      "model_name": "LabelModel",
      "state": {
       "layout": "IPY_MODEL_188f4485687d4030831349226a07a766",
       "style": "IPY_MODEL_53ca0aef2964487cb3ada10a61a9a2dd",
       "value": "Function Menu"
      }
     }
    },
    "version_major": 2,
    "version_minor": 0
   }
  }
 },
 "nbformat": 4,
 "nbformat_minor": 2
}
